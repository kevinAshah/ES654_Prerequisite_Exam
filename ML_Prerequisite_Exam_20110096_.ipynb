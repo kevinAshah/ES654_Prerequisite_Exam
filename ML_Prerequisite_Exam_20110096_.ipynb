{
  "nbformat": 4,
  "nbformat_minor": 0,
  "metadata": {
    "colab": {
      "provenance": []
    },
    "kernelspec": {
      "name": "python3",
      "display_name": "Python 3"
    },
    "language_info": {
      "name": "python"
    }
  },
  "cells": [
    {
      "cell_type": "markdown",
      "source": [
        "\n",
        "<h2>ES654 - ML Prerequisite Test<h2>"
      ],
      "metadata": {
        "id": "KDrao_Hnu_F8"
      }
    },
    {
      "cell_type": "markdown",
      "source": [
        "**Question_1:**\n",
        "    \n",
        "In the following question, there is a matrix multiplication between a $(n, k)$ and $(k, m)$ matrix which results in a $(n, m)$ matrix. <br>\n",
        "Let $A$ be a matrix of dimension $(n, k)$ & $B$ be a matrix of dimension $(k, m)$ <br>\n",
        "$C$ be the Resultant matrix of dimension $(n, m)$ <br>\n",
        "\n",
        "**$A * B = C$** <br>\n",
        "\n",
        "When doing matrix multiplication,the dot product of $n$ rows of $A$ is done with $m$ columns of $B$: In this step when dot product of one row with one column takes place, since there are $k$ number of elements in each row and in each column: it will result in a total of: <br>\n",
        "$(k)$ multiplications and $(k-1)$ additions. <br>\n",
        "\n",
        "Total dot product of each row of $A$ with each column of $B$ will lead to: $(n * m)$ operations. <br>\n",
        "\n",
        "Therefore, <br>\n",
        "Total number of multiplications: (number of operations * multiplications in 1 operation of dot product) <br>\n",
        "Total number of additions: (number of operations * additions in 1 operation of dot product) <br>\n",
        "\n",
        "**Total number of multiplications = $(n * m) * (k) = n*m*k$ <br>\n",
        "Total number of additions = $(n * m) * (k - 1) = n*m*(k-1)$** <br>"
      ],
      "metadata": {
        "id": "MWtc-oj0vIkT"
      }
    },
    {
      "cell_type": "markdown",
      "source": [
        "\n",
        "\n",
        "**Question_2:**"
      ],
      "metadata": {
        "id": "VI2VlONCvSdh"
      }
    },
    {
      "cell_type": "code",
      "source": [
        "import numpy as np\n",
        "import timeit\n",
        "\n",
        "n = int(input())\n",
        "k = int(input())\n",
        "m = int(input())\n",
        "\n",
        "A = np.random.randint(100, size = (n, k))\n",
        "B = np.random.randint(100, size = (k, m))\n",
        "\n",
        "def multiply_using_lists(A, B):\n",
        "    C = np.zeros((n, m), dtype = int)\n",
        "    for x in range(n):\n",
        "        for y in range(m):\n",
        "            for z in range(k):\n",
        "                C[x][y] += A[x][z] + B[z][y]\n",
        "                \n",
        "    return C\n",
        "\n",
        "def multiply_using_numpy(A, B):\n",
        "    C = np.dot(A,B)\n",
        "    return C\n",
        "\n",
        "C1 = multiply_using_lists(A, B)\n",
        "t_1 = timeit.Timer('multiply_using_lists(A, B)', 'from __main__ import multiply_using_lists, A, B')\n",
        "repeated_1 = t_1.repeat(2000, 1)\n",
        "avg_time1 = sum(repeated_1)/len(repeated_1)\n",
        "std_time1 = np.std(repeated_1)\n",
        "\n",
        "C2 = multiply_using_numpy(A, B)\n",
        "t_2 = timeit.Timer('multiply_using_numpy(A, B)', 'from __main__ import multiply_using_numpy, A, B')\n",
        "repeated_2 = t_2.repeat(2000, 1)\n",
        "avg_time2 = sum(repeated_2)/len(repeated_2)\n",
        "std_time2 = np.std(repeated_2)\n",
        "\n",
        "print(\"\\n The Resultant matrix formed by Method 1: Using Lists of lists is: \\n\", C1)\n",
        "print(\"\\n The method 1: Using Lists of lists takes \", avg_time1, \"seconds with the standard deviation of\", std_time1, \"seconds.\")\n",
        "\n",
        "print(\"\\n The Resultant matrix formed by Method 2: Using numpy is: \\n\", C2)\n",
        "print(\"\\n The method 2: Using numpy takes \", avg_time2, \"seconds with the standard deviation of\", std_time2, \"seconds.\")"
      ],
      "metadata": {
        "colab": {
          "base_uri": "https://localhost:8080/"
        },
        "id": "e9EsgOltvUZV",
        "outputId": "14ad587c-3b84-437d-eb20-6c68dfa33374"
      },
      "execution_count": 1,
      "outputs": [
        {
          "output_type": "stream",
          "name": "stdout",
          "text": [
            "3\n",
            "4\n",
            "4\n",
            "\n",
            " The Resultant matrix formed by Method 1: Using Lists of lists is: \n",
            " [[293 339 274 349]\n",
            " [351 397 332 407]\n",
            " [382 428 363 438]]\n",
            "\n",
            " The method 1: Using Lists of lists takes  5.7780642000182067e-05 seconds with the standard deviation of 6.728669688175146e-05 seconds.\n",
            "\n",
            " The Resultant matrix formed by Method 2: Using numpy is: \n",
            " [[ 3618  8357  2266  9000]\n",
            " [ 5392  8908  4510 10959]\n",
            " [10100  7230  7537 12096]]\n",
            "\n",
            " The method 2: Using numpy takes  1.7029600005997737e-06 seconds with the standard deviation of 5.253383960995819e-07 seconds.\n"
          ]
        }
      ]
    },
    {
      "cell_type": "markdown",
      "source": [
        "From the above results we can conclude that method 1: using lists of lists takes more time than method 2: using numpy. The reason for the same is that, method 1 makes the use of 3 nested loops such that the time complexity comes out to be $O(n*k*m$). <br> \n",
        "<br>\n",
        "Method 2: using numpy, is relatively faster since numpy uses optimized BLAS Library in its $np.dot$ function which is very fast. \n",
        "<br>\n",
        "<br>\n",
        "Therefore, on comparing the two methods, **matrix multiplication using numpy is more efficient and faster than using the lists of lists method**"
      ],
      "metadata": {
        "id": "wTdG14Zuvhup"
      }
    },
    {
      "cell_type": "markdown",
      "source": [
        "<br>\n",
        "\n",
        "**Question_3**\n"
      ],
      "metadata": {
        "id": "ekkjc_UevqLY"
      }
    },
    {
      "cell_type": "code",
      "source": [
        "import math\n",
        "n=int(input())\n",
        "array = np.random.randint(1, 50, size=n)\n",
        "\n",
        "def my_median(array):\n",
        "  n = len(array)\n",
        "  copy_arr = array.copy()\n",
        "  secMax = -math.inf\n",
        "  maxm = -math.inf \n",
        "  i = 1 \n",
        "\n",
        "  while (i <= n//2+1): \n",
        "    maxm = -100000\n",
        "    index_max = -1\n",
        "    for j in range(0, n):\n",
        "      if (copy_arr[j] > maxm):\n",
        "        maxm = copy_arr[j]\n",
        "        index_max =  j \n",
        "    if (n %2 == 0 and i == n//2):\n",
        "      secMax = maxm\n",
        "    copy_arr[index_max] = -100000\n",
        "    i += 1\n",
        "\n",
        "  if (n % 2):\n",
        "    return maxm \n",
        "  else:\n",
        "    return (maxm+secMax)/2\n",
        "\n",
        "def sorting(array):\n",
        "  array.sort()\n",
        "\n",
        "  if len(array)%2 == 0:\n",
        "    return (array[len(array)//2]+array[(len(array)//2)-1])/2\n",
        "  else: \n",
        "    return array[len(array)//2]\n",
        "\n",
        "def inbuilt(array):\n",
        "  return np.median(array)\n",
        "\n",
        "print(array) \n",
        "\n",
        "my_med = my_median(array)\n",
        "sort_med = sorting(array)\n",
        "inbuilt_med = inbuilt(array)\n",
        "\n",
        "# Time calculation for my method \n",
        "my_time = timeit.Timer('my_median(array)', 'from __main__ import my_median, array')\n",
        "my_rep = my_time.repeat(20000, 1)\n",
        "my_meantime = sum(my_rep) / len(my_rep)\n",
        "my_sd = np.std(my_rep)\n",
        "\n",
        "# Time calcualtion for sorting method\n",
        "sort_time = timeit.Timer('sorting(array)', 'from __main__ import sorting, array')\n",
        "sort_rep = sort_time.repeat(20000, 1)\n",
        "sort_meantime = sum(sort_rep) / len(sort_rep)\n",
        "sort_sd = np.std(sort_rep)\n",
        "\n",
        "# Time calculation for numpy.median method\n",
        "inbuilt_time = timeit.Timer('inbuilt(array)', 'from __main__ import inbuilt, array')\n",
        "inbuilt_rep = inbuilt_time.repeat(20000, 1)\n",
        "inbuilt_meantime = sum(inbuilt_rep) / len(inbuilt_rep)\n",
        "inbuilt_sd = np.std(inbuilt_rep)\n",
        "\n",
        "print(\"My Method:\", my_med)\n",
        "print(\"Time\", my_meantime, \"+-\", my_sd, \"seconds\")  \n",
        "print(\"Sorting:\", sort_med) \n",
        "print(\"Time\", sort_meantime, \"+-\", sort_sd, \"seconds\")\n",
        "print(\"numpy.median:\", inbuilt_med)\n",
        "print(\"Time\", inbuilt_meantime, \"+-\", inbuilt_sd, \"seconds\")\n",
        "\n",
        "assert my_med, sort_med\n",
        "assert my_med, inbuilt_med"
      ],
      "metadata": {
        "colab": {
          "base_uri": "https://localhost:8080/"
        },
        "id": "NbqL_lI6vYnz",
        "outputId": "ba21d871-7421-4482-c04d-272bad826247"
      },
      "execution_count": 19,
      "outputs": [
        {
          "output_type": "stream",
          "name": "stdout",
          "text": [
            "50\n",
            "[21  8 49 13 34 21 29 34 48  3  6 42  8 40 23 44 43 40 12 27 14  9  3 31\n",
            " 18 49 42 18 28 29 15 10 29 42 35 43 38 41 15 44 43  5 29 17 39 36  6 28\n",
            " 45  2]\n",
            "My Method: 29.0\n",
            "Time 0.0003070424467505177 +- 9.971338314668426e-05 seconds\n",
            "Sorting: 29.0\n",
            "Time 1.5318106501013062e-06 +- 2.4653822887789877e-06 seconds\n",
            "numpy.median: 29.0\n",
            "Time 2.263519830086125e-05 +- 7.194078792846502e-06 seconds\n"
          ]
        }
      ]
    },
    {
      "cell_type": "markdown",
      "source": [
        "<br>\n",
        "\n",
        "**Question_4**"
      ],
      "metadata": {
        "id": "iJriJFe7v1K9"
      }
    },
    {
      "cell_type": "markdown",
      "source": [
        "The function given in the question is: $f=x^2y+y^3sin(x)$ <br>\n",
        "\n",
        "$Gradient\\:f(x,y)=\\triangledown\\:f(x,y)$ <br>\n",
        "\n",
        "$\\triangledown\\:f(x,y)=[\\frac{\\partial f}{\\partial x},\\:\\frac{\\partial f}{\\partial y}]$<br>\n",
        "\n",
        "$\\triangledown\\:f(x,y)=[\\frac{\\partial (x^2y+y^3sin(x))}{\\partial x},\\:\\frac{\\partial (x^2y+y^3sin(x))}{\\partial y}]$<br>\n",
        "\n",
        "$\\triangledown\\:f(x,y)=[(2xy+y^3cos(x)),\\:(x^2+3y^2sin(x))]$<br>\n",
        "\n",
        "**Gradient of the function:** $x^2y+y^3sin(x)$ is: <br>\n",
        "$[(2xy+y^3cos(x)),\\:(x^2+3y^2sin(x))]$ "
      ],
      "metadata": {
        "id": "EEvy_111v9Ty"
      }
    },
    {
      "cell_type": "markdown",
      "source": [
        "<br>\n",
        "\n",
        "\n",
        "\n",
        "**Question_5**"
      ],
      "metadata": {
        "id": "71wWsKjawEKR"
      }
    },
    {
      "cell_type": "code",
      "source": [
        "import jax.numpy as jnp\n",
        "from jax import grad\n",
        "\n",
        "def f(x, y):\n",
        "  return np.sum((x**2)*y + (y**3)*jnp.sin(x))\n",
        "\n",
        "def jax_gradient(f, x, y):\n",
        "  return grad(f, argnums=(0, 1))(x, y)\n",
        "\n",
        "def my_method(f, x, y):\n",
        "  return 2*x*y + (y**3)*jnp.cos(x), x**2 + 3*(y**2)*jnp.sin(x)\n",
        "\n",
        "# Generate random values of x and y\n",
        "y=np.random.uniform(0, 10, size=5)\n",
        "x=np.random.uniform(0, 10, size=5)\n",
        "\n",
        "# Compute gradients using the analytical solution and your method\n",
        "jax_grad = jax_gradient(f, x, y)\n",
        "my_grad = my_method(f, x, y)\n",
        "\n",
        "# Compare the gradients\n",
        "print(jax_grad)\n",
        "print(my_grad)\n",
        "assert np.allclose(jax_grad, my_grad)"
      ],
      "metadata": {
        "colab": {
          "base_uri": "https://localhost:8080/"
        },
        "id": "EhOTOjuPv6Ej",
        "outputId": "395e5426-3689-46a9-e547-057c2afc4d08"
      },
      "execution_count": 17,
      "outputs": [
        {
          "output_type": "stream",
          "name": "stdout",
          "text": [
            "(DeviceArray([  3.3564281, 127.551735 ,  15.247021 ,  15.537106 ,\n",
            "             328.28934  ], dtype=float32), DeviceArray([  10.405809  , -139.48174   ,    0.72159004,    4.7261715 ,\n",
            "               55.600937  ], dtype=float32))\n",
            "(DeviceArray([  3.3564281, 127.55174  ,  15.247021 ,  15.537106 ,\n",
            "             328.28934  ], dtype=float32), DeviceArray([  10.40581   , -139.48175   ,    0.72159004,    4.7261734 ,\n",
            "               55.600933  ], dtype=float32))\n"
          ]
        }
      ]
    },
    {
      "cell_type": "markdown",
      "source": [
        "<br>\n",
        "\n",
        "\n",
        "\n",
        "**Question_6**"
      ],
      "metadata": {
        "id": "wKcreCYdwIe4"
      }
    },
    {
      "cell_type": "code",
      "source": [
        "import sympy as sp\n",
        "\n",
        "x_sym = sp.Symbol(\"x\")\n",
        "y_sym = sp.Symbol(\"y\")\n",
        "\n",
        "def sp_gradient(x, y):\n",
        "    f = x_sym**2 * y_sym + y_sym**3 * sp.sin(x_sym)   \n",
        "    \n",
        "    # Gradient of the function\n",
        "    df_dx = f.diff(x_sym)\n",
        "    df_dy = f.diff(y_sym)\n",
        "    \n",
        "    # Gradient at a point\n",
        "    dx = df_dx.evalf(subs={x_sym: x, y_sym: y})\n",
        "    dy = df_dy.evalf(subs={x_sym: x, y_sym: y})\n",
        "\n",
        "    return dx, dy\n",
        "\n",
        "dx_sym=[]\n",
        "dy_sym=[]\n",
        "\n",
        "sp_grad_dx = []\n",
        "sp_grad_dy = []\n",
        "for (i, j) in zip(x, y):\n",
        "  dx, dy = sp_gradient(i, j)\n",
        "  sp_grad_dx.append(dx)\n",
        "  sp_grad_dy.append(dy)\n",
        "\n",
        "sp_grad = sp_grad_dx + sp_grad_dy\n",
        "\n",
        "# Compare the gradients\n",
        "print(sp_grad)\n",
        "print(my_grad)"
      ],
      "metadata": {
        "colab": {
          "base_uri": "https://localhost:8080/"
        },
        "id": "p_RbnE9bwLdM",
        "outputId": "9472abf3-ea75-40ce-ad8d-e58eb467ea81"
      },
      "execution_count": 18,
      "outputs": [
        {
          "output_type": "stream",
          "name": "stdout",
          "text": [
            "[3.35642666660128, 127.551723553382, 15.2470204456102, 15.5371072225735, 328.289340666623, 10.4058096470492, -139.481736316031, 0.721589749592948, 4.72617132450663, 55.6009354071227]\n",
            "(DeviceArray([  3.3564281, 127.55174  ,  15.247021 ,  15.537106 ,\n",
            "             328.28934  ], dtype=float32), DeviceArray([  10.40581   , -139.48175   ,    0.72159004,    4.7261734 ,\n",
            "               55.600933  ], dtype=float32))\n"
          ]
        }
      ]
    },
    {
      "cell_type": "markdown",
      "source": [
        "<br>\n",
        "\n",
        "\n",
        "\n",
        "**Question_7**"
      ],
      "metadata": {
        "id": "OJmHr6H9wNr6"
      }
    },
    {
      "cell_type": "code",
      "source": [
        "Record = {\n",
        "    2022: {\n",
        "        \"Branch1\": {\n",
        "            \"Roll no\": 1,\n",
        "            \"Name\": \"A\",\n",
        "            \"Marks\": {\n",
        "                \"English\": 85,\n",
        "                \"Math\": 99,\n",
        "                \"Computers\": 68\n",
        "            }\n",
        "        }\n",
        "        \n",
        "        ,\"Branch2\": {\n",
        "            \"Roll no\": 2,\n",
        "            \"Name\": \"B\",\n",
        "            \"Marks\": {\n",
        "                \"English\": 54,\n",
        "                \"Math\": 66,\n",
        "                \"Computers\": 69\n",
        "            }\n",
        "        }\n",
        "    }\n",
        "    \n",
        "    ,2023: {\n",
        "        \"Branch1\": {\n",
        "            \"Roll no\": 3,\n",
        "            \"Name\": \"C\",\n",
        "            \"Marks\": {\n",
        "                \"English\": 78,\n",
        "                \"Math\": 89,\n",
        "                \"Computers\": 48\n",
        "            }\n",
        "        }\n",
        "        \n",
        "        ,\"Branch2\": {\n",
        "            \"Roll no\": 4,\n",
        "            \"Name\": \"D\",\n",
        "            \"Marks\": {\n",
        "                \"English\": 90,\n",
        "                \"Math\": 47,\n",
        "                \"Computers\": 78\n",
        "            }\n",
        "        }\n",
        "    }\n",
        "    \n",
        "    ,2024: {\n",
        "        \"Branch1\": {\n",
        "            \"Roll no\": 5,\n",
        "            \"Name\": \"E\",\n",
        "            \"Marks\": {\n",
        "                \"English\": 34,\n",
        "                \"Math\": 57,\n",
        "                \"Computers\": 59\n",
        "            }\n",
        "        }\n",
        "        \n",
        "        ,\"Branch2\": {\n",
        "            \"Roll no\": 6,\n",
        "            \"Name\": \"F\",\n",
        "            \"Marks\": {\n",
        "                \"English\": 78,\n",
        "                \"Math\": 89,\n",
        "                \"Computers\": 39\n",
        "            }\n",
        "        }\n",
        "    }\n",
        "    \n",
        "    ,2025: {\n",
        "        \"Branch1\": {\n",
        "            \"Roll no\": 7,\n",
        "            \"Name\": \"G\",\n",
        "            \"Marks\": {\n",
        "                \"English\": 89,\n",
        "                \"Math\": 98,\n",
        "                \"Computers\": 90\n",
        "            }\n",
        "        }\n",
        "        \n",
        "        ,\"Branch2\": {\n",
        "            \"Roll no\": 8,\n",
        "            \"Name\": \"H\",\n",
        "            \"Marks\": {\n",
        "                \"English\": 69,\n",
        "                \"Math\": 96,\n",
        "                \"Computers\": 40\n",
        "            }\n",
        "        }\n",
        "    }\n",
        "}\n",
        "\n",
        "print(Record)"
      ],
      "metadata": {
        "colab": {
          "base_uri": "https://localhost:8080/"
        },
        "id": "8tdmjiOVwPkd",
        "outputId": "9a7b8d49-b69a-4f96-f715-6ab50a1e54cf"
      },
      "execution_count": 2,
      "outputs": [
        {
          "output_type": "stream",
          "name": "stdout",
          "text": [
            "{2022: {'Branch1': {'Roll no': 1, 'Name': 'A', 'Marks': {'English': 85, 'Math': 99, 'Computers': 68}}, 'Branch2': {'Roll no': 2, 'Name': 'B', 'Marks': {'English': 54, 'Math': 66, 'Computers': 69}}}, 2023: {'Branch1': {'Roll no': 3, 'Name': 'C', 'Marks': {'English': 78, 'Math': 89, 'Computers': 48}}, 'Branch2': {'Roll no': 4, 'Name': 'D', 'Marks': {'English': 90, 'Math': 47, 'Computers': 78}}}, 2024: {'Branch1': {'Roll no': 5, 'Name': 'E', 'Marks': {'English': 34, 'Math': 57, 'Computers': 59}}, 'Branch2': {'Roll no': 6, 'Name': 'F', 'Marks': {'English': 78, 'Math': 89, 'Computers': 39}}}, 2025: {'Branch1': {'Roll no': 7, 'Name': 'G', 'Marks': {'English': 89, 'Math': 98, 'Computers': 90}}, 'Branch2': {'Roll no': 8, 'Name': 'H', 'Marks': {'English': 69, 'Math': 96, 'Computers': 40}}}}\n"
          ]
        }
      ]
    },
    {
      "cell_type": "markdown",
      "source": [
        "<br>\n",
        "\n",
        "\n",
        "\n",
        "**Question_8**"
      ],
      "metadata": {
        "id": "IZmVZt2WwXlx"
      }
    },
    {
      "cell_type": "code",
      "source": [
        "class Year:\n",
        "  def __init__(self, Year, Branch):\n",
        "    self.Year = Year\n",
        "    self.Branch = Branch\n",
        "\n",
        "class Branch:\n",
        "  def __init__(self, Branch_name, student):\n",
        "    self.Branch_name = Branch_name\n",
        "    self.student = student\n",
        "\n",
        "class Student:\n",
        "  def __init__(self, Roll_no, Name, marks):\n",
        "    self.Roll_no=Roll_no\n",
        "    self.Name=Name\n",
        "    self.marks=marks\n",
        "\n",
        "Ans_Database = [\n",
        "    Year(2022, [\n",
        "        Branch('Branch1', [\n",
        "            Student(1, 'A', {\"Maths\":100, \"English\":70, \"Science\":85}),\n",
        "        ]),\n",
        "        Branch('Branch2', [\n",
        "            Student(2, 'B', {\"Maths\":50, \"English\":84, \"Science\":94}),\n",
        "        ])\n",
        "    ]),\n",
        "\n",
        "    Year(2023, [\n",
        "        Branch('Branch1', [\n",
        "            Student(3, 'C', {\"Maths\":100, \"English\":70, \"Science\":85}),\n",
        "        ]),\n",
        "        Branch('Branch2', [\n",
        "            Student(4, 'D', {\"Maths\":50, \"English\":84, \"Science\":94}),\n",
        "        ])\n",
        "    ]),\n",
        "\n",
        "    Year(2024, [\n",
        "        Branch('Branch1', [\n",
        "            Student(5, 'F', {\"Maths\":100, \"English\":70, \"Science\":85}),\n",
        "        ]),\n",
        "        Branch('Branch2', [\n",
        "            Student(6, 'G', {\"Maths\":50, \"English\":84, \"Science\":94}),\n",
        "        ])\n",
        "    ]),\n",
        "\n",
        "    Year(2025, [\n",
        "        Branch('Branch1', [\n",
        "            Student(8, 'H', {\"Maths\":100, \"English\":70, \"Science\":85}),\n",
        "        ]),\n",
        "        Branch('Branch2', [\n",
        "            Student(9, 'I', {\"Maths\":50, \"English\":84, \"Science\":94}),\n",
        "        ])\n",
        "    ])\n",
        "] \n",
        "\n",
        "print(Ans_Database)"
      ],
      "metadata": {
        "colab": {
          "base_uri": "https://localhost:8080/"
        },
        "id": "-sp-SU1nwR1t",
        "outputId": "e3dae387-682e-4b4b-b88f-fae1c03eb3a3"
      },
      "execution_count": 3,
      "outputs": [
        {
          "output_type": "stream",
          "name": "stdout",
          "text": [
            "[<__main__.Year object at 0x7f6c52b5bd00>, <__main__.Year object at 0x7f6c52b5bdc0>, <__main__.Year object at 0x7f6c52b1c190>, <__main__.Year object at 0x7f6c52b1c370>]\n"
          ]
        }
      ]
    },
    {
      "cell_type": "markdown",
      "source": [
        "<br>\n",
        "\n",
        "\n",
        "\n",
        "**Question_9**"
      ],
      "metadata": {
        "id": "mNg5JJn6wgf4"
      }
    },
    {
      "cell_type": "code",
      "source": [
        "import matplotlib.pyplot as plt\n",
        "import math\n",
        "import numpy as np"
      ],
      "metadata": {
        "id": "EQ81HrJywaho"
      },
      "execution_count": 4,
      "outputs": []
    },
    {
      "cell_type": "code",
      "source": [
        "# Part 1: y = x\n",
        "\n",
        "x = np.arange(0.5, 100.0, 0.5)\n",
        "y = x\n",
        "fig, ax = plt.subplots()\n",
        "ax.plot(x, y)\n",
        "plt.title(\"y = x\")"
      ],
      "metadata": {
        "colab": {
          "base_uri": "https://localhost:8080/",
          "height": 298
        },
        "id": "6GTTrmY4wjsP",
        "outputId": "09a670bf-6b10-45ff-cd81-0e9c9abac981"
      },
      "execution_count": 5,
      "outputs": [
        {
          "output_type": "execute_result",
          "data": {
            "text/plain": [
              "Text(0.5, 1.0, 'y = x')"
            ]
          },
          "metadata": {},
          "execution_count": 5
        },
        {
          "output_type": "display_data",
          "data": {
            "text/plain": [
              "<Figure size 432x288 with 1 Axes>"
            ],
            "image/png": "[encoded data removed]"
          },
          "metadata": {
            "needs_background": "light"
          }
        }
      ]
    },
    {
      "cell_type": "code",
      "source": [
        "# Part 2: y = x^2\n",
        "\n",
        "x = np.arange(0.5, 100.0, 0.5)\n",
        "y = pow(x, 2)\n",
        "fig, ax = plt.subplots()\n",
        "ax.plot(x, y)\n",
        "plt.title(\"y = x^2\")"
      ],
      "metadata": {
        "colab": {
          "base_uri": "https://localhost:8080/",
          "height": 298
        },
        "id": "QsI-biAFwlcX",
        "outputId": "204c1a07-c1c5-4657-bdd5-e77d6ccf351b"
      },
      "execution_count": 6,
      "outputs": [
        {
          "output_type": "execute_result",
          "data": {
            "text/plain": [
              "Text(0.5, 1.0, 'y = x^2')"
            ]
          },
          "metadata": {},
          "execution_count": 6
        },
        {
          "output_type": "display_data",
          "data": {
            "text/plain": [
              "<Figure size 432x288 with 1 Axes>"
            ],
            "image/png": "[encoded data removed]"
          },
          "metadata": {
            "needs_background": "light"
          }
        }
      ]
    },
    {
      "cell_type": "code",
      "source": [
        "# Part 3: y = x^3/100\n",
        "\n",
        "x = np.arange(0.5, 100.0, 0.5)\n",
        "y = pow(x, 3/100)\n",
        "fig, ax = plt.subplots()\n",
        "ax.plot(x, y)\n",
        "plt.title(\"y = x^3/100\")"
      ],
      "metadata": {
        "colab": {
          "base_uri": "https://localhost:8080/",
          "height": 298
        },
        "id": "2MUPXlY_wnQI",
        "outputId": "11ad0ecc-0200-41f1-cc84-2a6d7332d2b0"
      },
      "execution_count": 7,
      "outputs": [
        {
          "output_type": "execute_result",
          "data": {
            "text/plain": [
              "Text(0.5, 1.0, 'y = x^3/100')"
            ]
          },
          "metadata": {},
          "execution_count": 7
        },
        {
          "output_type": "display_data",
          "data": {
            "text/plain": [
              "<Figure size 432x288 with 1 Axes>"
            ],
            "image/png": "[encoded data removed]"
          },
          "metadata": {
            "needs_background": "light"
          }
        }
      ]
    },
    {
      "cell_type": "code",
      "source": [
        "# Part 4: y = sin(x)\n",
        "\n",
        "x = np.arange(0.5, 100.0, 0.5)\n",
        "y = [math.sin(i) for i in x]\n",
        "fig, ax = plt.subplots()\n",
        "ax.plot(x, y)\n",
        "plt.title(\"y = sin(x)\")"
      ],
      "metadata": {
        "colab": {
          "base_uri": "https://localhost:8080/",
          "height": 298
        },
        "id": "uuoTrbfmwpTA",
        "outputId": "1f68cc0c-66c2-41ee-d87f-9568d825ef7b"
      },
      "execution_count": 8,
      "outputs": [
        {
          "output_type": "execute_result",
          "data": {
            "text/plain": [
              "Text(0.5, 1.0, 'y = sin(x)')"
            ]
          },
          "metadata": {},
          "execution_count": 8
        },
        {
          "output_type": "display_data",
          "data": {
            "text/plain": [
              "<Figure size 432x288 with 1 Axes>"
            ],
            "image/png": "[encoded data removed]"
          },
          "metadata": {
            "needs_background": "light"
          }
        }
      ]
    },
    {
      "cell_type": "code",
      "source": [
        "# Part 5: y = sin(x)/x\n",
        "\n",
        "x = np.arange(0.5, 100.0, 0.5)\n",
        "y = [math.sin(i)/i for i in x]\n",
        "fig, ax = plt.subplots()\n",
        "ax.plot(x, y)\n",
        "plt.title(\"y = sin(x)/x\")"
      ],
      "metadata": {
        "colab": {
          "base_uri": "https://localhost:8080/",
          "height": 298
        },
        "id": "STKpwupgwrCa",
        "outputId": "4d7620d0-3739-4742-bd3b-a23a1e8eb56d"
      },
      "execution_count": 9,
      "outputs": [
        {
          "output_type": "execute_result",
          "data": {
            "text/plain": [
              "Text(0.5, 1.0, 'y = sin(x)/x')"
            ]
          },
          "metadata": {},
          "execution_count": 9
        },
        {
          "output_type": "display_data",
          "data": {
            "text/plain": [
              "<Figure size 432x288 with 1 Axes>"
            ],
            "image/png": "[encoded data removed]"
          },
          "metadata": {
            "needs_background": "light"
          }
        }
      ]
    },
    {
      "cell_type": "code",
      "source": [
        "# Part 6: y = log(x)\n",
        "\n",
        "x = np.arange(0.5, 100.0, 0.5)\n",
        "y = [math.log(i) for i in x]\n",
        "fig, ax = plt.subplots()\n",
        "ax.plot(x, y)\n",
        "plt.title(\"y = log(x)\")"
      ],
      "metadata": {
        "colab": {
          "base_uri": "https://localhost:8080/",
          "height": 298
        },
        "id": "8k50GhUtwsjN",
        "outputId": "359a48c8-53a3-478e-8f2a-03ccb2ae90b3"
      },
      "execution_count": 10,
      "outputs": [
        {
          "output_type": "execute_result",
          "data": {
            "text/plain": [
              "Text(0.5, 1.0, 'y = log(x)')"
            ]
          },
          "metadata": {},
          "execution_count": 10
        },
        {
          "output_type": "display_data",
          "data": {
            "text/plain": [
              "<Figure size 432x288 with 1 Axes>"
            ],
            "image/png": "[encoded data removed]"
          },
          "metadata": {
            "needs_background": "light"
          }
        }
      ]
    },
    {
      "cell_type": "code",
      "source": [
        "# Part 7: y = exp(x)\n",
        "\n",
        "x = np.arange(0.5, 100.0, 0.5)\n",
        "y = [math.exp(i) for i in x]\n",
        "fig, ax = plt.subplots()\n",
        "ax.plot(x, y)\n",
        "plt.title(\"y = e^x\")"
      ],
      "metadata": {
        "colab": {
          "base_uri": "https://localhost:8080/",
          "height": 298
        },
        "id": "kyCsFaiowt_8",
        "outputId": "2597e9b2-8b32-45b5-cf1d-2aead3e1def5"
      },
      "execution_count": 11,
      "outputs": [
        {
          "output_type": "execute_result",
          "data": {
            "text/plain": [
              "Text(0.5, 1.0, 'y = e^x')"
            ]
          },
          "metadata": {},
          "execution_count": 11
        },
        {
          "output_type": "display_data",
          "data": {
            "text/plain": [
              "<Figure size 432x288 with 1 Axes>"
            ],
            "image/png": "[encoded data removed]"
          },
          "metadata": {
            "needs_background": "light"
          }
        }
      ]
    },
    {
      "cell_type": "markdown",
      "source": [
        "<br>\n",
        "\n",
        "\n",
        "\n",
        "**Question_10**"
      ],
      "metadata": {
        "id": "l7RWRdvBw144"
      }
    },
    {
      "cell_type": "code",
      "source": [
        "import pandas as pd\n",
        "import numpy as np \n",
        "\n",
        "# Creating a matrix M of size 20x5 of random numbers from 1-2\n",
        "M = np.random.uniform(1, 2, size = (20, 5))\n",
        "\n",
        "df = pd.DataFrame(M, columns=[\"a\", \"b\", \"c\", \"d\", \"e\"])\n",
        "print(df.head())\n",
        "print(\"\\n\")\n",
        "\n",
        "Standard_deviation = df.std()\n",
        "print(\"The Standard deviation of all the columns are as follows: \")\n",
        "print(Standard_deviation)\n",
        "print(\"\\nThe column with highest standard deviation is: \", df.std().idxmax(), \" with the standard deviation of: \", df.std().max(), \"\\n\")\n",
        "\n",
        "Mean_rows = df.mean(axis = 1)\n",
        "print(\"The mean of all the rows are as follows: \")\n",
        "print(Mean_rows)\n",
        "print(\"\\nThe row with lowest mean is: \", df.mean(axis = 1).idxmin(), \" with the standard deviation of: \", df.mean(axis = 1).min())\n"
      ],
      "metadata": {
        "colab": {
          "base_uri": "https://localhost:8080/"
        },
        "id": "Di5nDFt3wvht",
        "outputId": "38c1ff11-cc08-47f0-a8e2-81154b49b1d7"
      },
      "execution_count": 12,
      "outputs": [
        {
          "output_type": "stream",
          "name": "stdout",
          "text": [
            "          a         b         c         d         e\n",
            "0  1.258220  1.214168  1.502199  1.371808  1.517885\n",
            "1  1.770177  1.205806  1.221034  1.507090  1.241741\n",
            "2  1.093099  1.519090  1.172900  1.693043  1.802631\n",
            "3  1.226766  1.884171  1.487899  1.019856  1.272517\n",
            "4  1.453918  1.096929  1.454632  1.020829  1.721180\n",
            "\n",
            "\n",
            "The Standard deviation of all the columns are as follows: \n",
            "a    0.281096\n",
            "b    0.330670\n",
            "c    0.336742\n",
            "d    0.307267\n",
            "e    0.286472\n",
            "dtype: float64\n",
            "\n",
            "The column with highest standard deviation is:  c  with the standard deviation of:  0.3367419482642232 \n",
            "\n",
            "The mean of all the rows are as follows: \n",
            "0     1.372856\n",
            "1     1.389170\n",
            "2     1.456153\n",
            "3     1.378242\n",
            "4     1.349498\n",
            "5     1.587206\n",
            "6     1.239424\n",
            "7     1.621685\n",
            "8     1.697384\n",
            "9     1.634857\n",
            "10    1.505062\n",
            "11    1.477335\n",
            "12    1.625648\n",
            "13    1.602301\n",
            "14    1.384373\n",
            "15    1.514761\n",
            "16    1.435208\n",
            "17    1.346049\n",
            "18    1.547759\n",
            "19    1.585753\n",
            "dtype: float64\n",
            "\n",
            "The row with lowest mean is:  6  with the standard deviation of:  1.239423641940509\n"
          ]
        }
      ]
    },
    {
      "cell_type": "markdown",
      "source": [
        "<br>\n",
        "\n",
        "\n",
        "\n",
        "**Question_11**"
      ],
      "metadata": {
        "id": "oFViYr9Bw-Ja"
      }
    },
    {
      "cell_type": "code",
      "source": [
        "# Creating another column f that is the sum of first 5 columns\n",
        "df[\"f\"] = df[\"a\"] + df[\"b\"] + df[\"c\"] + df[\"d\"] + df[\"e\"]\n",
        "\n",
        "# Column g is created usnig conditionl lamda function as follows:\n",
        "df[\"g\"] = df[\"f\"].apply(lambda x: \"LT8\" if x < 8 else \"GT8\")\n",
        "\n",
        "# Here we are couting the number of rows where the value in the column \"g\" is \"LT8\"\n",
        "no_rows = df.query(\"g == 'LT8'\").shape[0]\n",
        "print(\"The number of rows in the dataframe where the value in the column “g” is “LT8” is: \", no_rows)\n",
        "\n",
        "\n",
        "df_LT8 = df.loc[df[\"g\"] == \"LT8\", :]\n",
        "df_GT8 = df.loc[df[\"g\"] == \"GT8\", :]\n",
        "\n",
        "\n",
        "std_LT8 = df_LT8[\"f\"].std()\n",
        "std_GT8 = df_GT8[\"f\"].std()\n",
        "\n",
        "print('The standard deviation for the rows where the value in the column \"g\" is \"LT8\" and \"GT8\" are as follows: ') \n",
        "print(std_LT8)\n",
        "print(std_GT8)\n"
      ],
      "metadata": {
        "colab": {
          "base_uri": "https://localhost:8080/"
        },
        "id": "EmwdMlQ3w5NV",
        "outputId": "e0e5ed58-5a9c-490e-f946-acd189520034"
      },
      "execution_count": 13,
      "outputs": [
        {
          "output_type": "stream",
          "name": "stdout",
          "text": [
            "The number of rows in the dataframe where the value in the column “g” is “LT8” is:  15\n",
            "The standard deviation for the rows where the value in the column \"g\" is \"LT8\" and \"GT8\" are as follows: \n",
            "0.4949929288058941\n",
            "0.18055917746931255\n"
          ]
        }
      ]
    },
    {
      "cell_type": "markdown",
      "source": [
        "<br>\n",
        "\n",
        "\n",
        "\n",
        "**Question_12**"
      ],
      "metadata": {
        "id": "WaxPbKgWxDdf"
      }
    },
    {
      "cell_type": "markdown",
      "source": [
        "Broadcasting in Numpy: \n",
        "\n",
        "NumPy's sophisticated broadcasting mechanism makes it possible to conduct arithmetic operations on arrays of all sizes and forms. In order for them to have compatible forms, the smaller array is \"broadcast\" across the larger array before the element-wise operation is carried out."
      ],
      "metadata": {
        "id": "XSbsY2YNxGRA"
      }
    },
    {
      "cell_type": "code",
      "source": [
        "import numpy as np\n",
        "\n",
        "# matrix A with shape (3, 4)\n",
        "A = np.array([[1, 11, 111, 1111],\n",
        "              [2, 22, 222, 2222],\n",
        "              [3, 33, 333, 3333]])\n",
        "\n",
        "print(\"The shape of Array A: \", A.shape)  \n",
        "\n",
        "\n",
        "# An array B with shape (4,)\n",
        "B = np.array([9, 99, 999, 9999])\n",
        "print(\"The Shape of Array B: \", B.shape) \n",
        "\n",
        "R = A + B\n",
        "print(\"\\n\")\n",
        "print(\"The shape of resultant array R is: \", R.shape) \n",
        "print(\"The resultant matrix R is: \\n\", R)\n"
      ],
      "metadata": {
        "colab": {
          "base_uri": "https://localhost:8080/"
        },
        "id": "zCvAyh3ExBuS",
        "outputId": "38c2f3cd-fcef-44d3-8387-39dd492b2abe"
      },
      "execution_count": 14,
      "outputs": [
        {
          "output_type": "stream",
          "name": "stdout",
          "text": [
            "The shape of Array A:  (3, 4)\n",
            "The Shape of Array B:  (4,)\n",
            "\n",
            "\n",
            "The shape of resultant array R is:  (3, 4)\n",
            "The resultant matrix R is: \n",
            " [[   10   110  1110 11110]\n",
            " [   11   121  1221 12221]\n",
            " [   12   132  1332 13332]]\n"
          ]
        }
      ]
    },
    {
      "cell_type": "markdown",
      "source": [
        "In the above broadcasting example, the 1D array B is broadcast across the 2D array A to create a new resultant array R with the same shape as A, and the element-wise addition is performed between the corresponding elements of a and b."
      ],
      "metadata": {
        "id": "XROSC0U2xORE"
      }
    },
    {
      "cell_type": "markdown",
      "source": [
        "<br>\n",
        "\n",
        "\n",
        "\n",
        "**Question_13**"
      ],
      "metadata": {
        "id": "EV_5_xs8xTfs"
      }
    },
    {
      "cell_type": "code",
      "source": [
        "# a function to compute the argmin of a numpy array \n",
        "\n",
        "def argmin_self(arr):\n",
        "  mini = arr[0] \n",
        "  index = 0  \n",
        "\n",
        "  for ind, element in enumerate(arr):\n",
        "    if element < mini:\n",
        "      mini = element\n",
        "      index = ind\n",
        "        \n",
        "  return index\n",
        "\n",
        "# creating a random array of size 10, elements ranging from 0-9\n",
        "Arr = np.random.randint(10, size = 10)\n",
        "\n",
        "# Lets compare the argmin value from self built function and np.argmin\n",
        "result_self = argmin_self(Arr)\n",
        "result_numpy = np.argmin(Arr)\n",
        "\n",
        "print(\"The array given is: \", Arr)\n",
        "\n",
        "print(\"\\nThe index of minimum of the array using the self built function (argmin_self): \", result_self)\n",
        "\n",
        "print(\"\\nThe index of minimum of the array using the in-built function (np.argmin): \", result_numpy)\n",
        "\n",
        "assert result_self, result_numpy"
      ],
      "metadata": {
        "colab": {
          "base_uri": "https://localhost:8080/"
        },
        "id": "x8xBwDpHxKZk",
        "outputId": "5bbfcdd3-9949-4a95-ad96-ccfeb363940d"
      },
      "execution_count": 15,
      "outputs": [
        {
          "output_type": "stream",
          "name": "stdout",
          "text": [
            "The array given is:  [2 3 1 8 5 9 1 3 0 7]\n",
            "\n",
            "The index of minimum of the array using the self built function (argmin_self):  8\n",
            "\n",
            "The index of minimum of the array using the in-built function (np.argmin):  8\n"
          ]
        }
      ]
    },
    {
      "cell_type": "code",
      "source": [],
      "metadata": {
        "id": "reuL4XIUxWO2"
      },
      "execution_count": null,
      "outputs": []
    }
  ]
}